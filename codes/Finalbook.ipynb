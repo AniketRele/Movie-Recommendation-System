{
 "cells": [
  {
   "cell_type": "code",
   "execution_count": 253,
   "metadata": {},
   "outputs": [],
   "source": [
    "import numpy as np\n",
    "import pandas as pd\n",
    "import matplotlib.pyplot as plt\n",
    "%matplotlib inline\n",
    "import seaborn as sns\n",
    "import warnings\n",
    "warnings.filterwarnings('ignore')"
   ]
  },
  {
   "cell_type": "code",
   "execution_count": 254,
   "metadata": {},
   "outputs": [],
   "source": [
    "final = pd.read_csv(\"final_dataset.csv\")"
   ]
  },
  {
   "cell_type": "code",
   "execution_count": 255,
   "metadata": {
    "scrolled": true
   },
   "outputs": [
    {
     "data": {
      "text/html": [
       "<div>\n",
       "<style scoped>\n",
       "    .dataframe tbody tr th:only-of-type {\n",
       "        vertical-align: middle;\n",
       "    }\n",
       "\n",
       "    .dataframe tbody tr th {\n",
       "        vertical-align: top;\n",
       "    }\n",
       "\n",
       "    .dataframe thead th {\n",
       "        text-align: right;\n",
       "    }\n",
       "</style>\n",
       "<table border=\"1\" class=\"dataframe\">\n",
       "  <thead>\n",
       "    <tr style=\"text-align: right;\">\n",
       "      <th></th>\n",
       "      <th>director_name</th>\n",
       "      <th>actor_1_name</th>\n",
       "      <th>actor_2_name</th>\n",
       "      <th>actor_3_name</th>\n",
       "      <th>genres</th>\n",
       "      <th>movie_title</th>\n",
       "      <th>combined</th>\n",
       "    </tr>\n",
       "  </thead>\n",
       "  <tbody>\n",
       "    <tr>\n",
       "      <th>0</th>\n",
       "      <td>James Cameron</td>\n",
       "      <td>CCH Pounder</td>\n",
       "      <td>Joel David Moore</td>\n",
       "      <td>Wes Studi</td>\n",
       "      <td>Action Adventure Fantasy Sci-Fi</td>\n",
       "      <td>avatar</td>\n",
       "      <td>CCH Pounder Joel David Moore Wes Studi James C...</td>\n",
       "    </tr>\n",
       "    <tr>\n",
       "      <th>1</th>\n",
       "      <td>Gore Verbinski</td>\n",
       "      <td>Johnny Depp</td>\n",
       "      <td>Orlando Bloom</td>\n",
       "      <td>Jack Davenport</td>\n",
       "      <td>Action Adventure Fantasy</td>\n",
       "      <td>pirates of the caribbean: at world's end</td>\n",
       "      <td>Johnny Depp Orlando Bloom Jack Davenport Gore ...</td>\n",
       "    </tr>\n",
       "    <tr>\n",
       "      <th>2</th>\n",
       "      <td>Sam Mendes</td>\n",
       "      <td>Christoph Waltz</td>\n",
       "      <td>Rory Kinnear</td>\n",
       "      <td>Stephanie Sigman</td>\n",
       "      <td>Action Adventure Thriller</td>\n",
       "      <td>spectre</td>\n",
       "      <td>Christoph Waltz Rory Kinnear Stephanie Sigman ...</td>\n",
       "    </tr>\n",
       "    <tr>\n",
       "      <th>3</th>\n",
       "      <td>Christopher Nolan</td>\n",
       "      <td>Tom Hardy</td>\n",
       "      <td>Christian Bale</td>\n",
       "      <td>Joseph Gordon-Levitt</td>\n",
       "      <td>Action Thriller</td>\n",
       "      <td>the dark knight rises</td>\n",
       "      <td>Tom Hardy Christian Bale Joseph Gordon-Levitt ...</td>\n",
       "    </tr>\n",
       "    <tr>\n",
       "      <th>4</th>\n",
       "      <td>Doug Walker</td>\n",
       "      <td>Doug Walker</td>\n",
       "      <td>Rob Walker</td>\n",
       "      <td>Unknown</td>\n",
       "      <td>Documentary</td>\n",
       "      <td>star wars: episode vii - the force awakens    ...</td>\n",
       "      <td>Doug Walker Rob Walker Unknown Doug Walker Doc...</td>\n",
       "    </tr>\n",
       "  </tbody>\n",
       "</table>\n",
       "</div>"
      ],
      "text/plain": [
       "       director_name     actor_1_name      actor_2_name          actor_3_name  \\\n",
       "0      James Cameron      CCH Pounder  Joel David Moore             Wes Studi   \n",
       "1     Gore Verbinski      Johnny Depp     Orlando Bloom        Jack Davenport   \n",
       "2         Sam Mendes  Christoph Waltz      Rory Kinnear      Stephanie Sigman   \n",
       "3  Christopher Nolan        Tom Hardy    Christian Bale  Joseph Gordon-Levitt   \n",
       "4        Doug Walker      Doug Walker        Rob Walker               Unknown   \n",
       "\n",
       "                            genres  \\\n",
       "0  Action Adventure Fantasy Sci-Fi   \n",
       "1         Action Adventure Fantasy   \n",
       "2        Action Adventure Thriller   \n",
       "3                  Action Thriller   \n",
       "4                      Documentary   \n",
       "\n",
       "                                         movie_title  \\\n",
       "0                                             avatar   \n",
       "1           pirates of the caribbean: at world's end   \n",
       "2                                            spectre   \n",
       "3                              the dark knight rises   \n",
       "4  star wars: episode vii - the force awakens    ...   \n",
       "\n",
       "                                            combined  \n",
       "0  CCH Pounder Joel David Moore Wes Studi James C...  \n",
       "1  Johnny Depp Orlando Bloom Jack Davenport Gore ...  \n",
       "2  Christoph Waltz Rory Kinnear Stephanie Sigman ...  \n",
       "3  Tom Hardy Christian Bale Joseph Gordon-Levitt ...  \n",
       "4  Doug Walker Rob Walker Unknown Doug Walker Doc...  "
      ]
     },
     "execution_count": 255,
     "metadata": {},
     "output_type": "execute_result"
    }
   ],
   "source": [
    "final.head()"
   ]
  },
  {
   "cell_type": "code",
   "execution_count": 256,
   "metadata": {},
   "outputs": [
    {
     "data": {
      "text/plain": [
       "(6014, 7)"
      ]
     },
     "execution_count": 256,
     "metadata": {},
     "output_type": "execute_result"
    }
   ],
   "source": [
    "final.shape"
   ]
  },
  {
   "cell_type": "code",
   "execution_count": 257,
   "metadata": {
    "scrolled": true
   },
   "outputs": [
    {
     "data": {
      "text/plain": [
       "director_name    0\n",
       "actor_1_name     0\n",
       "actor_2_name     0\n",
       "actor_3_name     0\n",
       "genres           0\n",
       "movie_title      0\n",
       "combined         0\n",
       "dtype: int64"
      ]
     },
     "execution_count": 257,
     "metadata": {},
     "output_type": "execute_result"
    }
   ],
   "source": [
    "final.isnull().sum()"
   ]
  },
  {
   "cell_type": "markdown",
   "metadata": {},
   "source": [
    "### Creating similarity"
   ]
  },
  {
   "cell_type": "code",
   "execution_count": 258,
   "metadata": {},
   "outputs": [],
   "source": [
    "from sklearn.feature_extraction.text import CountVectorizer\n",
    "\n",
    "cv = CountVectorizer()\n",
    "final_cv = cv.fit_transform(final['combined'])"
   ]
  },
  {
   "cell_type": "code",
   "execution_count": 261,
   "metadata": {},
   "outputs": [],
   "source": [
    "from sklearn.metrics.pairwise import cosine_similarity\n",
    "\n",
    "similarity = cosine_similarity(final_cv)"
   ]
  },
  {
   "cell_type": "code",
   "execution_count": 276,
   "metadata": {},
   "outputs": [],
   "source": [
    "def rcmd(m):\n",
    "    m = m.lower()\n",
    "    if m not in final['movie_title'].unique():\n",
    "        return('Sorry! The movie you requested is not in our database. Please check the spelling or try with some other movies')\n",
    "    else:\n",
    "        i = final.loc[final['movie_title']==m].index[0]\n",
    "        lst = list(enumerate(similarity[i]))\n",
    "        lst = sorted(lst, key = lambda x:x[1] ,reverse=True)\n",
    "        lst = lst[1:6] # excluding first item since it is the requested movie itself\n",
    "        l = []\n",
    "        for i in range(len(lst)):\n",
    "            a = lst[i][0]\n",
    "            l.append(final['movie_title'][a])\n",
    "        return l"
   ]
  },
  {
   "cell_type": "code",
   "execution_count": 280,
   "metadata": {
    "scrolled": true
   },
   "outputs": [
    {
     "data": {
      "text/plain": [
       "['superman ii',\n",
       " 'superman returns',\n",
       " 'timeline',\n",
       " 'superman iii',\n",
       " 'superman iv: the quest for peace']"
      ]
     },
     "execution_count": 280,
     "metadata": {},
     "output_type": "execute_result"
    }
   ],
   "source": [
    "preds = rcmd('superman')\n",
    "preds"
   ]
  },
  {
   "cell_type": "code",
   "execution_count": 286,
   "metadata": {},
   "outputs": [
    {
     "name": "stdout",
     "output_type": "stream",
     "text": [
      "['Superman ii', 'Superman returns', 'Timeline', 'Superman iii', 'Superman iv: the quest for peace']\n"
     ]
    }
   ],
   "source": [
    "predss=[]\n",
    "for i in range(len(preds)):\n",
    "    predss.append(preds[i].capitalize())\n",
    "print(predss)"
   ]
  },
  {
   "cell_type": "code",
   "execution_count": 298,
   "metadata": {},
   "outputs": [
    {
     "name": "stdout",
     "output_type": "stream",
     "text": [
      "Superman ii\n",
      "Superman returns\n",
      "Timeline\n",
      "Superman iii\n",
      "Superman iv: the quest for peace\n"
     ]
    }
   ],
   "source": [
    "for i in range(len(preds)):\n",
    "    gg = '\\n'.join(predss)\n",
    "print(gg)"
   ]
  }
 ],
 "metadata": {
  "kernelspec": {
   "display_name": "Python 3",
   "language": "python",
   "name": "python3"
  },
  "language_info": {
   "codemirror_mode": {
    "name": "ipython",
    "version": 3
   },
   "file_extension": ".py",
   "mimetype": "text/x-python",
   "name": "python",
   "nbconvert_exporter": "python",
   "pygments_lexer": "ipython3",
   "version": "3.7.7"
  }
 },
 "nbformat": 4,
 "nbformat_minor": 4
}
